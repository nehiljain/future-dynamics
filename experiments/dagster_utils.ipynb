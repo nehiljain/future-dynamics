{
 "cells": [
  {
   "cell_type": "markdown",
   "metadata": {},
   "source": []
  },
  {
   "cell_type": "code",
   "execution_count": null,
   "metadata": {},
   "outputs": [],
   "source": [
    "import pickle\n",
    "import pandas as pd\n",
    "\n",
    "output_file = \"/Users/nehiljain/code/future-dynamics/tmprvdpt6o6/storage/hotel_prices\"\n",
    "with open(output_file, \"rb\") as f:\n",
    "    df = pickle.load(f)"
   ]
  },
  {
   "cell_type": "code",
   "execution_count": null,
   "metadata": {},
   "outputs": [],
   "source": [
    "# count rows where text col = 'Failed to load page'\n",
    "df[\"failed_to_load_page\"] = df[\"text\"].apply(\n",
    "    lambda x: 1 if x == \"Failed to load page\" else 0\n",
    ")\n",
    "df[\"failed_to_load_page\"].value_counts()\n",
    "# print all rows with failed to load page\n",
    "df[df[\"failed_to_load_page\"] == 1][\n",
    "    [\"hotel_name\", \"checkin_date\", \"length_of_stay\"]\n",
    "].to_dict(orient=\"records\")"
   ]
  },
  {
   "cell_type": "code",
   "execution_count": null,
   "metadata": {},
   "outputs": [],
   "source": [
    "import pendulum\n",
    "\n",
    "pendulum.now(\"UTC\").hour()\n",
    "\n",
    "\n",
    "def parse_date(x):\n",
    "    try:\n",
    "        return pendulum.from_format(x, \"MMM D\")\n",
    "    except ValueError:\n",
    "        return pendulum.from_format(x, \"MMMM D\")\n",
    "\n",
    "\n",
    "df.rename(columns={\"name\": \"hotel_name\"}, inplace=True)\n",
    "# parse checkin using pendulum pendulum.from_format(df['checkin'], \"MMM D\")\n",
    "df[\"clean_checkin\"] = df[\"checkin\"].apply(lambda x: parse_date(x))\n",
    "df[\"clean_checkout\"] = df[\"checkout\"].apply(lambda x: parse_date(x))\n",
    "df[\"checkin_date\"] = df[\"checkin\"].apply(lambda x: parse_date(x).to_date_string())\n",
    "\n",
    "df[\"length_of_stay\"] = df.apply(\n",
    "    lambda x: (x[\"clean_checkout\"] - x[\"clean_checkin\"]).days, axis=1\n",
    ")"
   ]
  },
  {
   "cell_type": "code",
   "execution_count": null,
   "metadata": {},
   "outputs": [],
   "source": [
    "df[[\"hotel_name\", \"checkin_date\", \"length_of_stay\"]].to_dict(orient=\"records\")"
   ]
  },
  {
   "cell_type": "code",
   "execution_count": null,
   "metadata": {},
   "outputs": [],
   "source": [
    "city_makcorps_ids[city_makcorps_ids[\"city\"] == \"Chelsea Hotel Toronto\"][\n",
    "    [\"city\", \"id\", \"name\", \"address\", \"parent_name\"]\n",
    "]"
   ]
  },
  {
   "cell_type": "code",
   "execution_count": null,
   "metadata": {},
   "outputs": [],
   "source": [
    "hotel_price_data = (\n",
    "    \"/Users/nehiljain/code/future-dynamics/tmpol5om_6e/storage/get_hotel_price_today\"\n",
    ")\n",
    "with open(hotel_price_data, \"rb\") as f:\n",
    "    hotel_price_data = pickle.load(f)\n",
    "    print(hotel_price_data)"
   ]
  },
  {
   "cell_type": "code",
   "execution_count": null,
   "metadata": {},
   "outputs": [],
   "source": [
    "import pendulum\n",
    "\n",
    "pendulum.now(\"UTC\").to_datetime_string()"
   ]
  },
  {
   "cell_type": "code",
   "execution_count": null,
   "metadata": {},
   "outputs": [],
   "source": []
  },
  {
   "cell_type": "code",
   "execution_count": null,
   "metadata": {},
   "outputs": [],
   "source": [
    "hotel_price_data.to_csv(\n",
    "    \"/Users/nehiljain/code/future-dynamics/hotel_price_data.csv\", index=False\n",
    ")"
   ]
  },
  {
   "cell_type": "code",
   "execution_count": null,
   "metadata": {},
   "outputs": [],
   "source": [
    "from apify_client import ApifyClient\n",
    "\n",
    "apify_client = ApifyClient(\"apify_api_vEFjO91CWMSbOPSXR3iQSH07SdsI594tV9Jx\")\n",
    "\n",
    "# Collection clients do not require a parameter\n",
    "actor_collection_client = apify_client.actors()\n",
    "print(actor_collection_client.list().items)\n",
    "\n",
    "# # Create an actor with the name: my-actor\n",
    "# my_actor = actor_collection_client.create(name='my-actor')\n",
    "# # List all of your actors\n",
    "# actor_list = actor_collection_client.list().items\n",
    "\n",
    "# # Collection clients do not require a parameter\n",
    "dataset_collection_client = apify_client.datasets()\n",
    "print(dataset_collection_client.list().items)\n",
    "# # Get (or create, if it doesn't exist) a dataset with the name of my-dataset\n",
    "# my_dataset = dataset_collection_client.get_or_create(name='my-dataset')\n",
    "\n",
    "# # Resource clients accept an ID of the resource\n",
    "# actor_client = apify_client.actor('john-doe/my-actor')\n",
    "# # Fetch the john-doe/my-actor object from the API\n",
    "# my_actor = actor_client.get()\n",
    "# # Start the run of john-doe/my-actor and return the Run object\n",
    "# my_actor_run = actor_client.start()\n",
    "\n",
    "# # Resource clients accept an ID of the resource\n",
    "# dataset_client = apify_client.dataset('john-doe/my-dataset')\n",
    "# # Append items to the end of john-doe/my-dataset\n",
    "# dataset_client.push_items([{ 'foo': 1 }, { 'bar': 2 }])"
   ]
  },
  {
   "cell_type": "code",
   "execution_count": null,
   "metadata": {},
   "outputs": [],
   "source": []
  },
  {
   "cell_type": "code",
   "execution_count": null,
   "metadata": {},
   "outputs": [],
   "source": [
    "from serpapi import GoogleSearch\n",
    "\n",
    "params = {\n",
    "    \"engine\": \"google_hotels\",\n",
    "    \"q\": \"chelsea hotel, toronto\",\n",
    "    \"check_in_date\": \"2024-04-12\",\n",
    "    \"check_out_date\": \"2024-04-13\",\n",
    "    \"adults\": \"2\",\n",
    "    \"currency\": \"USD\",\n",
    "    \"gl\": \"us\",\n",
    "    \"hl\": \"en\",\n",
    "    \"api_key\": \"f3ba641ede0f0337d6af9cb1f69bea3f48d3c832b25489a178800a60f30bbb76\",\n",
    "}\n",
    "\n",
    "search = GoogleSearch(params)\n",
    "results = search.get_dict()\n",
    "hotel = [\n",
    "    property\n",
    "    for property in results[\"properties\"]\n",
    "    if property[\"name\"].replace(\",\", \"\").lower() == \"Chelsea Hotel Toronto\".lower()\n",
    "][0]\n",
    "print(hotel[\"rate_per_night\"][\"extracted_before_taxes_fees\"])"
   ]
  },
  {
   "cell_type": "code",
   "execution_count": null,
   "metadata": {},
   "outputs": [],
   "source": [
    "hotel = [\n",
    "    property\n",
    "    for property in results[\"properties\"]\n",
    "    if property[\"name\"].replace(\",\", \"\").lower() == \"Chelsea Hotel Toronto\".lower()\n",
    "][0]\n",
    "hotel"
   ]
  },
  {
   "cell_type": "code",
   "execution_count": null,
   "metadata": {},
   "outputs": [],
   "source": [
    "results[\"properties\"][0][\"total_rate\"]"
   ]
  },
  {
   "cell_type": "code",
   "execution_count": null,
   "metadata": {},
   "outputs": [],
   "source": [
    "results"
   ]
  },
  {
   "cell_type": "code",
   "execution_count": null,
   "metadata": {},
   "outputs": [],
   "source": [
    "from serpapi import GoogleSearch\n",
    "\n",
    "params = {\n",
    "    \"engine\": \"google\",\n",
    "    \"q\": \"google hotel search chelsea hotel, toronto checkin 12 april 2024 checkout 13 april 2024\",\n",
    "    \"api_key\": \"f3ba641ede0f0337d6af9cb1f69bea3f48d3c832b25489a178800a60f30bbb76\",\n",
    "}\n",
    "\n",
    "search = GoogleSearch(params)\n",
    "results = search.get_dict()\n",
    "organic_results = results[\"organic_results\"]"
   ]
  },
  {
   "cell_type": "code",
   "execution_count": null,
   "metadata": {},
   "outputs": [],
   "source": [
    "for link in organic_results:\n",
    "    print(\"Title: \" + link[\"title\"])\n",
    "    print(\"Link: \" + link[\"link\"] + \"\\n\")\n",
    "# results['ads']"
   ]
  },
  {
   "cell_type": "code",
   "execution_count": null,
   "metadata": {},
   "outputs": [],
   "source": [
    "import pendulum\n",
    "\n",
    "o = pendulum.from_format(\"Sat, Feb 10\", \"ddd, MMM D\")\n",
    "d = pendulum.datetime(2024, 4, 12)\n",
    "(o - d).days"
   ]
  },
  {
   "cell_type": "code",
   "execution_count": null,
   "metadata": {},
   "outputs": [],
   "source": [
    "import urllib.parse\n",
    "\n",
    "\n",
    "def create_google_travel_search_url(hotel_name, base_url):\n",
    "    \"\"\"\n",
    "    Create a Google Travel search URL for a given hotel name.\n",
    "\n",
    "    Args:\n",
    "    hotel_name (str): The name of the hotel to search for.\n",
    "    base_url (str): The base URL of Google Travel.\n",
    "\n",
    "    Returns:\n",
    "    str: A formatted URL for searching the hotel on Google Travel.\n",
    "    \"\"\"\n",
    "    # Encode the hotel name to be URL-friendly\n",
    "    encoded_hotel_name = urllib.parse.quote_plus(hotel_name)\n",
    "\n",
    "    # Concatenate the base URL with the query parameter for the hotel search\n",
    "    search_url = f\"{base_url}/search?q={encoded_hotel_name}\"\n",
    "\n",
    "    return search_url\n",
    "\n",
    "\n",
    "# Example usage\n",
    "hotel_name = \"chelsea hotel toronto\"\n",
    "base_url = \"https://www.google.com/travel/hotels\"\n",
    "print(create_google_travel_search_url(hotel_name, base_url))"
   ]
  },
  {
   "cell_type": "code",
   "execution_count": null,
   "metadata": {},
   "outputs": [],
   "source": []
  },
  {
   "cell_type": "code",
   "execution_count": null,
   "metadata": {},
   "outputs": [],
   "source": [
    "import requests\n",
    "\n",
    "url = \"https://api.apify.com/v2/acts/bed_scraper~gha-price-scraper/runs?token=apify_api_vEFjO91CWMSbOPSXR3iQSH07SdsI594tV9Jx&desc=1\"\n",
    "\n",
    "payload = {}\n",
    "headers = {}\n",
    "\n",
    "response = requests.request(\"GET\", url, headers=headers, data=payload)"
   ]
  },
  {
   "cell_type": "code",
   "execution_count": null,
   "metadata": {},
   "outputs": [],
   "source": [
    "runs = response.json()[\"data\"][\"items\"]"
   ]
  },
  {
   "cell_type": "code",
   "execution_count": null,
   "metadata": {},
   "outputs": [],
   "source": [
    "sum([run[\"status\"] == \"RUNNING\" for run in runs])"
   ]
  },
  {
   "cell_type": "code",
   "execution_count": null,
   "metadata": {},
   "outputs": [],
   "source": [
    "import gspread\n",
    "\n",
    "gc = gspread.service_account()\n",
    "\n",
    "sh = gc.open(\"B2Bed Hotel Pricing Data\")"
   ]
  },
  {
   "cell_type": "code",
   "execution_count": null,
   "metadata": {},
   "outputs": [],
   "source": [
    "[1] + [2]"
   ]
  },
  {
   "cell_type": "code",
   "execution_count": null,
   "metadata": {},
   "outputs": [],
   "source": [
    "from ..opensource_mds.google_hotel_prices import main\n",
    "import asyncio\n",
    "\n",
    "asyncio.run(main())"
   ]
  },
  {
   "cell_type": "code",
   "execution_count": null,
   "metadata": {},
   "outputs": [],
   "source": [
    "import pendulum\n",
    "\n",
    "pendulum.now(\"UTC\").hour"
   ]
  },
  {
   "cell_type": "code",
   "execution_count": 1,
   "metadata": {},
   "outputs": [],
   "source": [
    "import duckdb\n",
    "\n",
    "\n",
    "DUCK_DB_FILE = \"/Users/nehiljain/code/data/future-dynamics/raw/hotel_pricer_ai.duckdb\"\n",
    "cursor = duckdb.connect(DUCK_DB_FILE)\n",
    "# print(cursor.execute('DROP TABLE public.search_itineraries').fetchall())\n",
    "# print(cursor.execute('DROP TABLE public.hotel_prices').fetchall())\n",
    "query = \"ALTER TABLE public.search_itineraries ADD COLUMN IF NOT EXISTS run_at VARCHAR\"\n",
    "cursor.execute(query)\n",
    "cursor.close()"
   ]
  },
  {
   "cell_type": "code",
   "execution_count": 2,
   "metadata": {},
   "outputs": [
    {
     "data": {
      "text/html": [
       "<div>\n",
       "<style scoped>\n",
       "    .dataframe tbody tr th:only-of-type {\n",
       "        vertical-align: middle;\n",
       "    }\n",
       "\n",
       "    .dataframe tbody tr th {\n",
       "        vertical-align: top;\n",
       "    }\n",
       "\n",
       "    .dataframe thead th {\n",
       "        text-align: right;\n",
       "    }\n",
       "</style>\n",
       "<table border=\"1\" class=\"dataframe\">\n",
       "  <thead>\n",
       "    <tr style=\"text-align: right;\">\n",
       "      <th></th>\n",
       "      <th>run_at</th>\n",
       "    </tr>\n",
       "  </thead>\n",
       "  <tbody>\n",
       "    <tr>\n",
       "      <th>0</th>\n",
       "      <td>None</td>\n",
       "    </tr>\n",
       "    <tr>\n",
       "      <th>1</th>\n",
       "      <td>None</td>\n",
       "    </tr>\n",
       "    <tr>\n",
       "      <th>2</th>\n",
       "      <td>None</td>\n",
       "    </tr>\n",
       "    <tr>\n",
       "      <th>3</th>\n",
       "      <td>None</td>\n",
       "    </tr>\n",
       "    <tr>\n",
       "      <th>4</th>\n",
       "      <td>None</td>\n",
       "    </tr>\n",
       "    <tr>\n",
       "      <th>...</th>\n",
       "      <td>...</td>\n",
       "    </tr>\n",
       "    <tr>\n",
       "      <th>63</th>\n",
       "      <td>None</td>\n",
       "    </tr>\n",
       "    <tr>\n",
       "      <th>64</th>\n",
       "      <td>None</td>\n",
       "    </tr>\n",
       "    <tr>\n",
       "      <th>65</th>\n",
       "      <td>None</td>\n",
       "    </tr>\n",
       "    <tr>\n",
       "      <th>66</th>\n",
       "      <td>None</td>\n",
       "    </tr>\n",
       "    <tr>\n",
       "      <th>67</th>\n",
       "      <td>None</td>\n",
       "    </tr>\n",
       "  </tbody>\n",
       "</table>\n",
       "<p>68 rows × 1 columns</p>\n",
       "</div>"
      ],
      "text/plain": [
       "   run_at\n",
       "0    None\n",
       "1    None\n",
       "2    None\n",
       "3    None\n",
       "4    None\n",
       "..    ...\n",
       "63   None\n",
       "64   None\n",
       "65   None\n",
       "66   None\n",
       "67   None\n",
       "\n",
       "[68 rows x 1 columns]"
      ]
     },
     "metadata": {},
     "output_type": "display_data"
    }
   ],
   "source": [
    "import duckdb\n",
    "\n",
    "DUCK_DB_FILE = \"/Users/nehiljain/code/data/future-dynamics/raw/hotel_pricer_ai.duckdb\"\n",
    "cursor = duckdb.connect(DUCK_DB_FILE, read_only=True)\n",
    "itin_df = cursor.execute(\"select run_at from public.search_itineraries\").df()\n",
    "prices_df = cursor.execute(\"SELECT * FROM public.hotel_prices \").df()\n",
    "# df =cursor.execute(\"describe public.hotel_prices\").df()\n",
    "cursor.close()\n",
    "\n",
    "display(itin_df)"
   ]
  },
  {
   "cell_type": "code",
   "execution_count": null,
   "metadata": {},
   "outputs": [],
   "source": [
    "# find all rows for hotel name container williamsburg hotel and checkin date 2024-03-30\n",
    "new_df = prices_df[\n",
    "    (prices_df[\"hotel_name\"].str.contains(\"hayden\", case=False))\n",
    "    & (prices_df[\"checkin_date\"] == \"2024-03-31\")\n",
    "][[\"text\", \"hotel_name\", \"checkin_date\", \"length_of_stay\", \"run_date\"]].copy()\n",
    "new_df[\"ai_input\"] = new_df.apply(\n",
    "    lambda x: f\"{x['hotel_name']}__{x['checkin_date']}__{x['length_of_stay']}__{x['run_date']}->{x['text']}\",\n",
    "    axis=1,\n",
    ")"
   ]
  },
  {
   "cell_type": "code",
   "execution_count": null,
   "metadata": {},
   "outputs": [],
   "source": [
    "new_df[\"ai_input\"].to_list()[-50:]\n",
    "# write last 50 items in the above list to a file\n",
    "with open(\"hotel_prices_input.txt\", \"w\") as f:\n",
    "    for item in new_df[\"ai_input\"].to_list()[-50:]:\n",
    "        f.write(\"%s\\n\" % item)\n",
    "# filter rows with ai_input having ^The Williamsburg Hotel__\\d{4}-\\d{2}-\\d{2}__\\d__\\d{4}-\\d{2}-\\d{2}->.+;;\\$\\d+;;Visit site;;.+"
   ]
  },
  {
   "cell_type": "code",
   "execution_count": null,
   "metadata": {},
   "outputs": [],
   "source": [
    "import re\n",
    "\n",
    "\n",
    "# Function to create regex patterns based on the hotel name\n",
    "def create_regex_patterns(hotel_name):\n",
    "    # Regex to find relevant rows for the given hotel\n",
    "    # Pattern: <Hotel Name>...<Price>...Visit site\n",
    "    relevant_row_regex = re.compile(\n",
    "        rf\"{re.escape(hotel_name)}.*?\\$\\d+.*?Visit site\", re.IGNORECASE\n",
    "    )\n",
    "\n",
    "    # Regex to remove irrelevant rows\n",
    "    # Pattern: Does not contain <Hotel Name>...<Price>...Visit site\n",
    "    irrelevant_row_regex = re.compile(\n",
    "        rf\"^(?!.*{re.escape(hotel_name)}.*?\\$\\d+.*?Visit site).*\", re.IGNORECASE\n",
    "    )\n",
    "\n",
    "    return relevant_row_regex, irrelevant_row_regex\n",
    "\n",
    "\n",
    "# Example usage\n",
    "hotel_name = \"Hotel Hayden\"\n",
    "relevant_row_regex, irrelevant_row_regex = create_regex_patterns(hotel_name)\n",
    "\n",
    "# Example data\n",
    "data = new_df[\"ai_input\"].to_list()[-50:]\n",
    "# Filtering relevant and irrelevant rows\n",
    "relevant_rows = [row for row in data if relevant_row_regex.search(row)]\n",
    "irrelevant_rows = [row for row in data if irrelevant_row_regex.search(row)]\n",
    "\n",
    "import re\n",
    "\n",
    "\n",
    "# Function to create regex pattern for extracting provider and price\n",
    "def create_extraction_regex(hotel_name):\n",
    "    # Regex to extract provider and price\n",
    "    # Pattern: <Hotel Name>...<Provider>...$<Price>...Visit site\n",
    "    extraction_regex = re.compile(\n",
    "        rf\"{re.escape(hotel_name)}.*?->(.*?);;\\$(\\d+)\", re.IGNORECASE\n",
    "    )\n",
    "    return extraction_regex\n",
    "\n",
    "\n",
    "# Example usage\n",
    "hotel_name = \"Hotel Hayden\"\n",
    "extraction_regex = create_extraction_regex(hotel_name)\n",
    "\n",
    "# Extracting provider and price\n",
    "extracted_data = []\n",
    "for row in relevant_rows:\n",
    "    match = extraction_regex.search(row)\n",
    "    if match:\n",
    "        provider = match.group(1)\n",
    "        price = match.group(2)\n",
    "        extracted_data.append((provider, price))\n",
    "        print(f\"Provider: {provider}, Price: ${price} for text {row}\")"
   ]
  },
  {
   "cell_type": "code",
   "execution_count": null,
   "metadata": {},
   "outputs": [],
   "source": [
    "import requests\n",
    "\n",
    "url = \"http://httpbin.org/ip\"\n",
    "proxies = {\"http\": \"http://209.97.150.167:3128\", \"https\": \"http://35.243.227.100:80\"}\n",
    "response = requests.get(url, proxies=proxies)\n",
    "print(response.json())\n",
    "assert response.ok"
   ]
  },
  {
   "cell_type": "code",
   "execution_count": null,
   "metadata": {},
   "outputs": [],
   "source": []
  },
  {
   "cell_type": "code",
   "execution_count": null,
   "metadata": {},
   "outputs": [],
   "source": []
  },
  {
   "cell_type": "code",
   "execution_count": null,
   "metadata": {},
   "outputs": [],
   "source": []
  },
  {
   "cell_type": "code",
   "execution_count": null,
   "metadata": {},
   "outputs": [],
   "source": []
  },
  {
   "cell_type": "code",
   "execution_count": null,
   "metadata": {},
   "outputs": [],
   "source": []
  },
  {
   "cell_type": "code",
   "execution_count": null,
   "metadata": {},
   "outputs": [],
   "source": []
  },
  {
   "cell_type": "code",
   "execution_count": null,
   "metadata": {},
   "outputs": [],
   "source": []
  },
  {
   "cell_type": "code",
   "execution_count": null,
   "metadata": {},
   "outputs": [],
   "source": []
  },
  {
   "cell_type": "code",
   "execution_count": null,
   "metadata": {},
   "outputs": [],
   "source": []
  },
  {
   "cell_type": "code",
   "execution_count": null,
   "metadata": {},
   "outputs": [],
   "source": []
  },
  {
   "cell_type": "code",
   "execution_count": null,
   "metadata": {},
   "outputs": [],
   "source": []
  },
  {
   "cell_type": "code",
   "execution_count": null,
   "metadata": {},
   "outputs": [],
   "source": []
  },
  {
   "cell_type": "code",
   "execution_count": null,
   "metadata": {},
   "outputs": [],
   "source": []
  },
  {
   "cell_type": "code",
   "execution_count": null,
   "metadata": {},
   "outputs": [],
   "source": []
  },
  {
   "cell_type": "code",
   "execution_count": null,
   "metadata": {},
   "outputs": [],
   "source": []
  },
  {
   "cell_type": "code",
   "execution_count": null,
   "metadata": {},
   "outputs": [],
   "source": []
  }
 ],
 "metadata": {
  "kernelspec": {
   "display_name": ".venv",
   "language": "python",
   "name": "python3"
  },
  "language_info": {
   "codemirror_mode": {
    "name": "ipython",
    "version": 3
   },
   "file_extension": ".py",
   "mimetype": "text/x-python",
   "name": "python",
   "nbconvert_exporter": "python",
   "pygments_lexer": "ipython3",
   "version": "3.10.13"
  }
 },
 "nbformat": 4,
 "nbformat_minor": 2
}
