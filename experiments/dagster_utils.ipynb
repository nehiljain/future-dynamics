{
 "cells": [
  {
   "cell_type": "markdown",
   "metadata": {},
   "source": []
  },
  {
   "cell_type": "code",
   "execution_count": null,
   "metadata": {},
   "outputs": [],
   "source": [
    "import pickle\n",
    "import pandas as pd\n",
    "\n",
    "output_file = \"/Users/nehiljain/code/future-dynamics/tmprvdpt6o6/storage/hotel_prices\"\n",
    "with open(output_file, \"rb\") as f:\n",
    "    df = pickle.load(f)"
   ]
  },
  {
   "cell_type": "code",
   "execution_count": null,
   "metadata": {},
   "outputs": [],
   "source": [
    "# count rows where text col = 'Failed to load page'\n",
    "df[\"failed_to_load_page\"] = df[\"text\"].apply(\n",
    "    lambda x: 1 if x == \"Failed to load page\" else 0\n",
    ")\n",
    "df[\"failed_to_load_page\"].value_counts()\n",
    "# print all rows with failed to load page\n",
    "df[df[\"failed_to_load_page\"] == 1][\n",
    "    [\"hotel_name\", \"checkin_date\", \"length_of_stay\"]\n",
    "].to_dict(orient=\"records\")"
   ]
  },
  {
   "cell_type": "code",
   "execution_count": null,
   "metadata": {},
   "outputs": [],
   "source": [
    "import pendulum\n",
    "\n",
    "pendulum.now(\"UTC\").hour()\n",
    "\n",
    "\n",
    "def parse_date(x):\n",
    "    try:\n",
    "        return pendulum.from_format(x, \"MMM D\")\n",
    "    except ValueError:\n",
    "        return pendulum.from_format(x, \"MMMM D\")\n",
    "\n",
    "\n",
    "df.rename(columns={\"name\": \"hotel_name\"}, inplace=True)\n",
    "# parse checkin using pendulum pendulum.from_format(df['checkin'], \"MMM D\")\n",
    "df[\"clean_checkin\"] = df[\"checkin\"].apply(lambda x: parse_date(x))\n",
    "df[\"clean_checkout\"] = df[\"checkout\"].apply(lambda x: parse_date(x))\n",
    "df[\"checkin_date\"] = df[\"checkin\"].apply(lambda x: parse_date(x).to_date_string())\n",
    "\n",
    "df[\"length_of_stay\"] = df.apply(\n",
    "    lambda x: (x[\"clean_checkout\"] - x[\"clean_checkin\"]).days, axis=1\n",
    ")"
   ]
  },
  {
   "cell_type": "code",
   "execution_count": null,
   "metadata": {},
   "outputs": [],
   "source": [
    "df[[\"hotel_name\", \"checkin_date\", \"length_of_stay\"]].to_dict(orient=\"records\")"
   ]
  },
  {
   "cell_type": "code",
   "execution_count": null,
   "metadata": {},
   "outputs": [],
   "source": [
    "city_makcorps_ids[city_makcorps_ids[\"city\"] == \"Chelsea Hotel Toronto\"][\n",
    "    [\"city\", \"id\", \"name\", \"address\", \"parent_name\"]\n",
    "]"
   ]
  },
  {
   "cell_type": "code",
   "execution_count": null,
   "metadata": {},
   "outputs": [],
   "source": [
    "hotel_price_data = (\n",
    "    \"/Users/nehiljain/code/future-dynamics/tmpol5om_6e/storage/get_hotel_price_today\"\n",
    ")\n",
    "with open(hotel_price_data, \"rb\") as f:\n",
    "    hotel_price_data = pickle.load(f)\n",
    "    print(hotel_price_data)"
   ]
  },
  {
   "cell_type": "code",
   "execution_count": null,
   "metadata": {},
   "outputs": [],
   "source": [
    "import pendulum\n",
    "\n",
    "pendulum.now(\"UTC\").to_datetime_string()"
   ]
  },
  {
   "cell_type": "code",
   "execution_count": null,
   "metadata": {},
   "outputs": [],
   "source": []
  },
  {
   "cell_type": "code",
   "execution_count": null,
   "metadata": {},
   "outputs": [],
   "source": [
    "hotel_price_data.to_csv(\n",
    "    \"/Users/nehiljain/code/future-dynamics/hotel_price_data.csv\", index=False\n",
    ")"
   ]
  },
  {
   "cell_type": "code",
   "execution_count": null,
   "metadata": {},
   "outputs": [],
   "source": [
    "from apify_client import ApifyClient\n",
    "\n",
    "apify_client = ApifyClient(\"apify_api_vEFjO91CWMSbOPSXR3iQSH07SdsI594tV9Jx\")\n",
    "\n",
    "# Collection clients do not require a parameter\n",
    "actor_collection_client = apify_client.actors()\n",
    "print(actor_collection_client.list().items)\n",
    "\n",
    "# # Create an actor with the name: my-actor\n",
    "# my_actor = actor_collection_client.create(name='my-actor')\n",
    "# # List all of your actors\n",
    "# actor_list = actor_collection_client.list().items\n",
    "\n",
    "# # Collection clients do not require a parameter\n",
    "dataset_collection_client = apify_client.datasets()\n",
    "print(dataset_collection_client.list().items)\n",
    "# # Get (or create, if it doesn't exist) a dataset with the name of my-dataset\n",
    "# my_dataset = dataset_collection_client.get_or_create(name='my-dataset')\n",
    "\n",
    "# # Resource clients accept an ID of the resource\n",
    "# actor_client = apify_client.actor('john-doe/my-actor')\n",
    "# # Fetch the john-doe/my-actor object from the API\n",
    "# my_actor = actor_client.get()\n",
    "# # Start the run of john-doe/my-actor and return the Run object\n",
    "# my_actor_run = actor_client.start()\n",
    "\n",
    "# # Resource clients accept an ID of the resource\n",
    "# dataset_client = apify_client.dataset('john-doe/my-dataset')\n",
    "# # Append items to the end of john-doe/my-dataset\n",
    "# dataset_client.push_items([{ 'foo': 1 }, { 'bar': 2 }])"
   ]
  },
  {
   "cell_type": "code",
   "execution_count": null,
   "metadata": {},
   "outputs": [],
   "source": []
  },
  {
   "cell_type": "code",
   "execution_count": null,
   "metadata": {},
   "outputs": [],
   "source": [
    "from serpapi import GoogleSearch\n",
    "\n",
    "params = {\n",
    "    \"engine\": \"google_hotels\",\n",
    "    \"q\": \"chelsea hotel, toronto\",\n",
    "    \"check_in_date\": \"2024-04-12\",\n",
    "    \"check_out_date\": \"2024-04-13\",\n",
    "    \"adults\": \"2\",\n",
    "    \"currency\": \"USD\",\n",
    "    \"gl\": \"us\",\n",
    "    \"hl\": \"en\",\n",
    "    \"api_key\": \"f3ba641ede0f0337d6af9cb1f69bea3f48d3c832b25489a178800a60f30bbb76\",\n",
    "}\n",
    "\n",
    "search = GoogleSearch(params)\n",
    "results = search.get_dict()\n",
    "hotel = [\n",
    "    property\n",
    "    for property in results[\"properties\"]\n",
    "    if property[\"name\"].replace(\",\", \"\").lower() == \"Chelsea Hotel Toronto\".lower()\n",
    "][0]\n",
    "print(hotel[\"rate_per_night\"][\"extracted_before_taxes_fees\"])"
   ]
  },
  {
   "cell_type": "code",
   "execution_count": null,
   "metadata": {},
   "outputs": [],
   "source": [
    "hotel = [\n",
    "    property\n",
    "    for property in results[\"properties\"]\n",
    "    if property[\"name\"].replace(\",\", \"\").lower() == \"Chelsea Hotel Toronto\".lower()\n",
    "][0]\n",
    "hotel"
   ]
  },
  {
   "cell_type": "code",
   "execution_count": null,
   "metadata": {},
   "outputs": [],
   "source": [
    "results[\"properties\"][0][\"total_rate\"]"
   ]
  },
  {
   "cell_type": "code",
   "execution_count": null,
   "metadata": {},
   "outputs": [],
   "source": [
    "results"
   ]
  },
  {
   "cell_type": "code",
   "execution_count": null,
   "metadata": {},
   "outputs": [],
   "source": [
    "from serpapi import GoogleSearch\n",
    "\n",
    "params = {\n",
    "    \"engine\": \"google\",\n",
    "    \"q\": \"google hotel search chelsea hotel, toronto checkin 12 april 2024 checkout 13 april 2024\",\n",
    "    \"api_key\": \"f3ba641ede0f0337d6af9cb1f69bea3f48d3c832b25489a178800a60f30bbb76\",\n",
    "}\n",
    "\n",
    "search = GoogleSearch(params)\n",
    "results = search.get_dict()\n",
    "organic_results = results[\"organic_results\"]"
   ]
  },
  {
   "cell_type": "code",
   "execution_count": null,
   "metadata": {},
   "outputs": [],
   "source": [
    "for link in organic_results:\n",
    "    print(\"Title: \" + link[\"title\"])\n",
    "    print(\"Link: \" + link[\"link\"] + \"\\n\")\n",
    "# results['ads']"
   ]
  },
  {
   "cell_type": "code",
   "execution_count": null,
   "metadata": {},
   "outputs": [],
   "source": [
    "import pendulum\n",
    "\n",
    "o = pendulum.from_format(\"Sat, Feb 10\", \"ddd, MMM D\")\n",
    "d = pendulum.datetime(2024, 4, 12)\n",
    "(o - d).days"
   ]
  },
  {
   "cell_type": "code",
   "execution_count": null,
   "metadata": {},
   "outputs": [],
   "source": [
    "import os\n",
    "from supabase import create_client, Client\n",
    "from dotenv import load_dotenv\n",
    "\n",
    "load_dotenv()\n",
    "url: str = os.environ.get(\"SUPABASE_URL\")\n",
    "key: str = os.environ.get(\"SUPABASE_KEY\")\n",
    "supabase: Client = create_client(url, key)"
   ]
  },
  {
   "cell_type": "code",
   "execution_count": null,
   "metadata": {},
   "outputs": [],
   "source": [
    "rows = [\n",
    "    {\n",
    "        \"task_id\": \"7034553244\",\n",
    "        \"content\": \"Setup raycast mac app and karabiner with Hyper key — Shallow — Small — Life as usual — Business\",\n",
    "        \"completed_at\": \"2024-02-06T05:11:12.000000Z\",\n",
    "        \"features\": {\n",
    "            \"task\": \"setup raycast mac app and karabiner with hyper key\",\n",
    "            \"depth\": \"shallow\",\n",
    "            \"size\": \"small\",\n",
    "            \"project\": \"life as usual\",\n",
    "            \"pillar\": \"business\",\n",
    "        },\n",
    "    },\n",
    "    {\n",
    "        \"task_id\": \"7030784147\",\n",
    "        \"content\": \"Get costs for V1 and V2 of the blog, rewrite the code for the newsletter — Deep — Medium — Unknown — Business\",\n",
    "        \"completed_at\": \"2024-02-05T02:47:08.000000Z\",\n",
    "        \"features\": {\n",
    "            \"task\": \"get costs for v1 and v2 of the blog, rewrite the code for the newsletter\",\n",
    "            \"depth\": \"deep\",\n",
    "            \"size\": \"medium\",\n",
    "            \"project\": \"unknown\",\n",
    "            \"pillar\": \"business\",\n",
    "        },\n",
    "    },\n",
    "    {\n",
    "        \"content\": \"Upload all content to google drive before leaving mckinsey\",\n",
    "        \"task_id\": \"5511380851\",\n",
    "        \"added_at\": \"2022-01-18T12:00:13.999792Z\",\n",
    "        \"features\": {\n",
    "            \"task\": \"upload all content to google drive before leaving mckinsey\"\n",
    "        },\n",
    "    },\n",
    "    {\n",
    "        \"content\": \"Plan west coast trip\",\n",
    "        \"task_id\": \"5967285175\",\n",
    "        \"added_at\": \"2022-06-29T12:31:51.576318Z\",\n",
    "        \"features\": {\"task\": \"plan west coast trip\"},\n",
    "    },\n",
    "    {\n",
    "        \"content\": \"Set up excel to reflect correct networth and dashboard for fire\",\n",
    "        \"task_id\": \"6009825970\",\n",
    "        \"added_at\": \"2022-07-15T21:16:21.531708Z\",\n",
    "        \"features\": {\n",
    "            \"task\": \"set up excel to reflect correct networth and dashboard for fire\"\n",
    "        },\n",
    "    },\n",
    "    {\n",
    "        \"content\": \"Poke network\",\n",
    "        \"task_id\": \"6054238086\",\n",
    "        \"added_at\": \"2022-08-02T11:56:17.380895Z\",\n",
    "        \"features\": {\"task\": \"poke network\"},\n",
    "    },\n",
    "]\n",
    "\n",
    "data, count = supabase.table(\"tasks\").upsert([rows]).execute()"
   ]
  },
  {
   "cell_type": "code",
   "execution_count": null,
   "metadata": {},
   "outputs": [],
   "source": []
  },
  {
   "cell_type": "code",
   "execution_count": null,
   "metadata": {},
   "outputs": [],
   "source": [
    "import requests\n",
    "\n",
    "completed_url = \"https://api.todoist.com/sync/v9/completed/get_all\"\n",
    "headers = {\"Authorization\": f\"Bearer  05df909ef9fabe8e4db1b370bef8ed10eeec2971\"}\n",
    "response = requests.get(completed_url, headers=headers)\n",
    "completed_tasks = response.json()[\"items\"]"
   ]
  },
  {
   "cell_type": "markdown",
   "metadata": {},
   "source": []
  },
  {
   "cell_type": "code",
   "execution_count": null,
   "metadata": {},
   "outputs": [],
   "source": [
    "l1 = [1, 2]\n",
    "l2 = [3, 4]\n",
    "l1 + l2"
   ]
  },
  {
   "cell_type": "code",
   "execution_count": null,
   "metadata": {},
   "outputs": [],
   "source": [
    "import urllib.parse\n",
    "\n",
    "\n",
    "def create_google_travel_search_url(hotel_name, base_url):\n",
    "    \"\"\"\n",
    "    Create a Google Travel search URL for a given hotel name.\n",
    "\n",
    "    Args:\n",
    "    hotel_name (str): The name of the hotel to search for.\n",
    "    base_url (str): The base URL of Google Travel.\n",
    "\n",
    "    Returns:\n",
    "    str: A formatted URL for searching the hotel on Google Travel.\n",
    "    \"\"\"\n",
    "    # Encode the hotel name to be URL-friendly\n",
    "    encoded_hotel_name = urllib.parse.quote_plus(hotel_name)\n",
    "\n",
    "    # Concatenate the base URL with the query parameter for the hotel search\n",
    "    search_url = f\"{base_url}/search?q={encoded_hotel_name}\"\n",
    "\n",
    "    return search_url\n",
    "\n",
    "\n",
    "# Example usage\n",
    "hotel_name = \"chelsea hotel toronto\"\n",
    "base_url = \"https://www.google.com/travel/hotels\"\n",
    "print(create_google_travel_search_url(hotel_name, base_url))"
   ]
  },
  {
   "cell_type": "code",
   "execution_count": null,
   "metadata": {},
   "outputs": [],
   "source": []
  },
  {
   "cell_type": "code",
   "execution_count": null,
   "metadata": {},
   "outputs": [],
   "source": [
    "import requests\n",
    "\n",
    "url = \"https://api.apify.com/v2/acts/bed_scraper~gha-price-scraper/runs?token=apify_api_vEFjO91CWMSbOPSXR3iQSH07SdsI594tV9Jx&desc=1\"\n",
    "\n",
    "payload = {}\n",
    "headers = {}\n",
    "\n",
    "response = requests.request(\"GET\", url, headers=headers, data=payload)"
   ]
  },
  {
   "cell_type": "code",
   "execution_count": null,
   "metadata": {},
   "outputs": [],
   "source": [
    "runs = response.json()[\"data\"][\"items\"]"
   ]
  },
  {
   "cell_type": "code",
   "execution_count": null,
   "metadata": {},
   "outputs": [],
   "source": [
    "sum([run[\"status\"] == \"RUNNING\" for run in runs])"
   ]
  },
  {
   "cell_type": "code",
   "execution_count": null,
   "metadata": {},
   "outputs": [],
   "source": [
    "import gspread\n",
    "\n",
    "gc = gspread.service_account()\n",
    "\n",
    "sh = gc.open(\"B2Bed Hotel Pricing Data\")"
   ]
  },
  {
   "cell_type": "code",
   "execution_count": null,
   "metadata": {},
   "outputs": [],
   "source": [
    "[1] + [2]"
   ]
  },
  {
   "cell_type": "code",
   "execution_count": null,
   "metadata": {},
   "outputs": [],
   "source": [
    "from ..opensource_mds.google_hotel_prices import main\n",
    "import asyncio\n",
    "\n",
    "asyncio.run(main())"
   ]
  },
  {
   "cell_type": "code",
   "execution_count": null,
   "metadata": {},
   "outputs": [],
   "source": [
    "import pendulum\n",
    "\n",
    "pendulum.now(\"UTC\").hour"
   ]
  },
  {
   "cell_type": "code",
   "execution_count": null,
   "metadata": {},
   "outputs": [],
   "source": [
    "import duckdb\n",
    "\n",
    "DUCK_DB_FILE = \"/Users/nehiljain/code/data/future-dynamics/raw/hotel_pricer_ai.duckdb\"\n",
    "cursor = duckdb.connect(DUCK_DB_FILE)\n",
    "# print(cursor.execute('DROP TABLE public.search_itineraries').fetchall())\n",
    "# print(cursor.execute('DROP TABLE public.hotel_prices').fetchall())\n",
    "# insert into hotel_prices\n",
    "cursor.execute(\n",
    "    \"\"\"insert into public.hotel_prices values ('Accessible - 2 Queen,Mobility Accessible,Bathtub,Non-Smoking,Full Breakfast;;2 queen beds · 3 guests · Nonsmoking;;$157;;Visit site;;desktop', 'Best Western Sugar Sands Inn & Suites', '2024-03-13', 1, 'https://www.google.com/travel/search?q=Best%20Western%20Sugar%20Sands%20Inn%20%26%20Suites&ts=CAEaIAoCGgASGhIUCgcI6A8QAxgNEgcI6A8QAxgOGAEyAggBKgkKBToDVVNEGgA&qs=CAEgACgAMidDaGtJaWNLTW5mbkd6T0VLR2cwdlp5OHhNV0o0WkhneWJuRXhFQUVIAA&ap=KigKEgk8Y1bKXGM-QBH6u3fsrZtVwBISCVUOirojZD5AEfq7d7yDm1XAMAC6AQZwcmljZXM', '2024-01-24', '2024-01-24 22:37:25', '2024-01-25-00:00')\"\"\"\n",
    ")\n",
    "cursor.close()"
   ]
  },
  {
   "cell_type": "code",
   "execution_count": 1,
   "metadata": {},
   "outputs": [],
   "source": [
    "import duckdb\n",
    "\n",
    "DUCK_DB_FILE = \"/Users/nehiljain/code/data/future-dynamics/raw/hotel_pricer_ai.duckdb\"\n",
    "cursor = duckdb.connect(DUCK_DB_FILE, read_only=True)\n",
    "itin_df = cursor.execute(\"select * from public.search_itineraries\").df()\n",
    "\n",
    "raw_hotel_prices = cursor.execute(\"SELECT * FROM public.hotel_prices \").df()\n",
    "hotel_prices = cursor.execute(\"SELECT * FROM public.hotel_prices \").df()\n",
    "price_trends = cursor.execute(\"SELECT * FROM main.price_trends\").df()\n",
    "dates_trends = cursor.execute(\"SELECT * FROM main.dates\").df()\n",
    "buy_positions = cursor.execute(\"SELECT * FROM main.buy_positions\").df()\n",
    "\n",
    "cursor.close()\n",
    "\n",
    "\n",
    "price_trends.to_parquet(\n",
    "    \"/Users/nehiljain/code/data/future-dynamics/raw/price_trends.parquet\",\n",
    "    index=False,\n",
    ")\n",
    "hotel_prices.to_parquet(\n",
    "    \"/Users/nehiljain/code/data/future-dynamics/raw/hotel_prices.parquet\",\n",
    "    index=False,\n",
    ")\n",
    "raw_hotel_prices.to_parquet(\n",
    "    \"/Users/nehiljain/code/data/future-dynamics/raw/raw_hotel_prices.parquet\",\n",
    "    index=False,\n",
    ")\n",
    "dates_trends.to_parquet(\n",
    "    \"/Users/nehiljain/code/data/future-dynamics/raw/dates.parquet\",\n",
    "    index=False,\n",
    ")\n",
    "buy_positions.to_parquet(\n",
    "    \"/Users/nehiljain/code/data/future-dynamics/raw/buy_positions.parquet\",\n",
    "    index=False,\n",
    ")"
   ]
  },
  {
   "cell_type": "code",
   "execution_count": 2,
   "metadata": {},
   "outputs": [
    {
     "data": {
      "text/plain": [
       "array(['2024-01-23', '2024-01-24', '2024-01-25', '2024-01-26',\n",
       "       '2024-01-27', '2024-02-03', '2024-02-06', '2024-02-08',\n",
       "       '2024-02-10', '2024-02-15', '2024-02-17', '2024-02-22',\n",
       "       '2024-02-23', '2024-02-28', '2024-03-03', '2024-02-29',\n",
       "       '2024-02-26', '2024-02-24', '2024-03-04', '2024-03-02',\n",
       "       '2024-03-01', '2024-03-05', '2024-02-27', '2024-03-06',\n",
       "       '2024-02-25', '2024-03-07'], dtype=object)"
      ]
     },
     "execution_count": 2,
     "metadata": {},
     "output_type": "execute_result"
    }
   ],
   "source": [
    "hotel_prices.run_date.unique()"
   ]
  },
  {
   "cell_type": "code",
   "execution_count": null,
   "metadata": {},
   "outputs": [],
   "source": []
  },
  {
   "cell_type": "code",
   "execution_count": null,
   "metadata": {},
   "outputs": [],
   "source": [
    "import re\n",
    "\n",
    "\n",
    "def compare_strings(s1, s2):\n",
    "    # Specify the prefix to look for in s1\n",
    "    prefix = \"View prices for \"\n",
    "\n",
    "    # Clean s2 by removing non-alphanumeric characters and converting to lowercase\n",
    "    cleaned_s2 = re.sub(r\"\\W+\", \"\", s2).lower()\n",
    "\n",
    "    # Generate a regex pattern from cleaned_s2 that allows for any non-alphanumeric characters between its characters\n",
    "    # and ensure it starts with the specified prefix\n",
    "    pattern = re.escape(prefix) + \"\".join(f\"{char}[^A-Za-z0-9]*\" for char in cleaned_s2)\n",
    "\n",
    "    # Search for the pattern in s1, ignoring case and non-alphanumeric characters between characters in s2\n",
    "    return bool(re.search(pattern, s1, re.IGNORECASE))\n",
    "\n",
    "\n",
    "# Input strings\n",
    "s1 = \"View prices for Candlewood Suites New York City- Times Square, an IHG Hotel\"\n",
    "s2 = \"CandlewoodSuitesNewYorkCityTimesSquareanIHGHotel\"\n",
    "\n",
    "# Call the function with the given inputs\n",
    "result = compare_strings(s1, s2)\n",
    "\n",
    "print(\n",
    "    result\n",
    ")  # This should print True if the strings match according to the given criteria,"
   ]
  },
  {
   "cell_type": "code",
   "execution_count": null,
   "metadata": {},
   "outputs": [],
   "source": [
    "price_trends.hotel_name.unique()"
   ]
  },
  {
   "cell_type": "code",
   "execution_count": null,
   "metadata": {},
   "outputs": [],
   "source": []
  },
  {
   "cell_type": "code",
   "execution_count": null,
   "metadata": {},
   "outputs": [],
   "source": []
  },
  {
   "cell_type": "code",
   "execution_count": null,
   "metadata": {},
   "outputs": [],
   "source": []
  },
  {
   "cell_type": "code",
   "execution_count": null,
   "metadata": {},
   "outputs": [],
   "source": []
  }
 ],
 "metadata": {
  "kernelspec": {
   "display_name": ".venv",
   "language": "python",
   "name": "python3"
  },
  "language_info": {
   "codemirror_mode": {
    "name": "ipython",
    "version": 3
   },
   "file_extension": ".py",
   "mimetype": "text/x-python",
   "name": "python",
   "nbconvert_exporter": "python",
   "pygments_lexer": "ipython3",
   "version": "3.10.13"
  }
 },
 "nbformat": 4,
 "nbformat_minor": 2
}
